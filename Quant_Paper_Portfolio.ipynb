{
  "nbformat": 4,
  "nbformat_minor": 0,
  "metadata": {
    "colab": {
      "provenance": [],
      "include_colab_link": true
    },
    "kernelspec": {
      "name": "python3",
      "display_name": "Python 3"
    },
    "language_info": {
      "name": "python"
    }
  },
  "cells": [
    {
      "cell_type": "markdown",
      "metadata": {
        "id": "view-in-github",
        "colab_type": "text"
      },
      "source": [
        "<a href=\"https://colab.research.google.com/github/MattWestCode/psu_quants/blob/investing/Quant_Paper_Portfolio.ipynb\" target=\"_parent\"><img src=\"https://colab.research.google.com/assets/colab-badge.svg\" alt=\"Open In Colab\"/></a>"
      ]
    },
    {
      "cell_type": "code",
      "source": [
        "!pip install yfinance"
      ],
      "metadata": {
        "id": "XazDq8-bOU01"
      },
      "execution_count": null,
      "outputs": []
    },
    {
      "cell_type": "code",
      "source": [
        "from pandas_datareader import data as pdr\n",
        "import yfinance as yf\n",
        "import pandas as pd\n",
        "import numpy as np\n",
        "from datetime import datetime\n",
        "import matplotlib as plt\n",
        "yf.pdr_override()"
      ],
      "metadata": {
        "id": "xjDkhUK-xwFt"
      },
      "execution_count": null,
      "outputs": []
    },
    {
      "cell_type": "code",
      "source": [
        "class Portfolio:\n",
        "  def __init__(self, name, cash):\n",
        "    self.name = name\n",
        "    self.cash = cash\n",
        "    self.AUM = None\n",
        "    self.portfolio_beta = None\n",
        "\n",
        "    self.positions_price = {}\n",
        "    self.us_stocks_portfolio_weight = {}\n",
        "    self.positions_quantity = {}\n",
        "    self.us_stocks_trades = {} #{\"AAPL\": [[id1, price paid, qty, date], [id2, -price paid, qty, date]]}\n",
        "    \n",
        "    self.profit_loss = None\n",
        "    self.sharpe_ratio = None\n",
        "    self.total_return = None\n",
        "    self.expense_ratio = None\n",
        "    self.avg_price_to_earnings = None\n",
        "  \n",
        "  def calculate_return(self):\n",
        "    return None\n",
        "\n",
        "  # calculates assets under management\n",
        "  def calculate_AUM(self):\n",
        "    # self.AUM = self.cash + securities + etc.\n",
        "    return None\n",
        "\n",
        "  def performance_vs_benchmark(self, start_date, end_date, benchmark):\n",
        "    return None\n",
        "\n",
        "  def find_us_stock_trade(self, ticker, id):\n",
        "    return None\n",
        "\n",
        "  def add_us_stock_position(self, ticker, price, quantity):\n",
        "    return None\n",
        "\n",
        "  def remove_us_stock_position(self, ticker, price, quantity):\n",
        "    return None\n",
        "\n",
        "  def calculate_sharpe_ratio(self, risk_free_rate): \n",
        "    # utilize total return, total volatility, and risk free rate\n",
        "    # updates sharpe ratio attribute\n",
        "    return None\n",
        "\n",
        "  def portfolio_report(self):\n",
        "    print(\"Portfolio Name: {name}\".format(name = self.name))\n",
        "    print(\"Portfolio AUM: ${aum}\".format(aum = self.AUM))\n",
        "    print(\"\\nPortfolio Statistics:\")\n",
        "    print(\"Portfolio Return: {total_return}%\".format(total_return = self.total_return))\n",
        "    print(\"Portfolio Beta: {beta}\".format(beta = self.portfolio_beta))\n",
        "    print(\"Portfolio Profit-Loss: ${profit_loss}\".format(profit_loss = self.profit_loss))\n",
        "    print(\"Portfolio Sharpe Ratio: {sharpe_ratio}\".format(sharpe_ratio = self.sharpe_ratio))\n",
        "    print(\"Portfolio Expense Ratio: {expense_ratio}\".format(expense_ratio = self.expense_ratio))\n",
        "    print(\"Portfolio Average P/E: {avg_price_to_earnings}\".format(avg_price_to_earnings= self.avg_price_to_earnings))\n",
        "    #etc.\n",
        "\n",
        "  # calculates the weight of the portfolio's securities\n",
        "  def positions_weight(self):\n",
        "    return None\n",
        "\n",
        "  def graph_us_stocks_holdings(self):\n",
        "    # utilize matplotlib to graph\n",
        "    return None\n",
        "\n",
        "  def trailing_performance(self, end_date, start_date):\n",
        "    return None"
      ],
      "metadata": {
        "id": "IqwWW7KE2ps1"
      },
      "execution_count": null,
      "outputs": []
    }
  ]
}