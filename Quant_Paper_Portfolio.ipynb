{
  "nbformat": 4,
  "nbformat_minor": 0,
  "metadata": {
    "colab": {
      "provenance": [],
      "include_colab_link": true
    },
    "kernelspec": {
      "name": "python3",
      "display_name": "Python 3"
    },
    "language_info": {
      "name": "python"
    }
  },
  "cells": [
    {
      "cell_type": "markdown",
      "metadata": {
        "id": "view-in-github",
        "colab_type": "text"
      },
      "source": [
        "<a href=\"https://colab.research.google.com/github/MattWestCode/psu_quants/blob/investing/Quant_Paper_Portfolio.ipynb\" target=\"_parent\"><img src=\"https://colab.research.google.com/assets/colab-badge.svg\" alt=\"Open In Colab\"/></a>"
      ]
    },
    {
      "cell_type": "code",
      "source": [
        "!pip install yfinance"
      ],
      "metadata": {
        "id": "XazDq8-bOU01"
      },
      "execution_count": null,
      "outputs": []
    },
    {
      "cell_type": "code",
      "source": [
        "from pandas_datareader import data as pdr\n",
        "import yfinance as yf\n",
        "import pandas as pd\n",
        "import numpy as np\n",
        "from datetime import datetime\n",
        "import matplotlib as plt\n",
        "yf.pdr_override()"
      ],
      "metadata": {
        "id": "xjDkhUK-xwFt"
      },
      "execution_count": 1,
      "outputs": []
    },
    {
      "cell_type": "code",
      "source": [
        "class Portfolio:\n",
        "  def __init__(self, name, cash):\n",
        "    self.name = name\n",
        "    self.cash = cash\n",
        "    self.AUM = None\n",
        "    self.portfolio_beta = None\n",
        "\n",
        "    self.positions_price = {}\n",
        "    self.us_stocks_portfolio_weight = {}\n",
        "    self.positions_quantity = {}\n",
        "    self.us_stocks_trades = {} #{\"AAPL\": [[id1, price paid, qty, date], [id2, -price paid, qty, date]]}\n",
        "    \n",
        "    self.profit_loss = None\n",
        "    self.sharpe_ratio = None\n",
        "    self.total_return = None\n",
        "    self.expense_ratio = None\n",
        "    self.avg_price_to_earnings = None\n",
        "    \n",
        "\n",
        "  def calculate_return(self):\n",
        "    return None\n",
        "\n",
        "\n",
        "  def calculate_securities(self):\n",
        "    total_value = 0\n",
        "    for ticker in self.positions_price:\n",
        "      total_value += self.positions_price[ticker] * self.positions_quantity[ticker]\n",
        "    return total_value\n",
        "    \n",
        "\n",
        "  # calculates assets under management\n",
        "  def calculate_AUM(self):\n",
        "    self.AUM = self.cash + self.calculate_securities()\n",
        "    print(self.AUM)\n",
        "    return self.AUM\n",
        "\n",
        "  def performance_vs_benchmark(self, start_date, end_date, benchmark):\n",
        "    return None\n",
        "\n",
        "  def find_us_stock_trade(self, ticker, id):\n",
        "    return None\n",
        "\n",
        "  # Buys a stock at designated price for X shares\n",
        "  def buy_us_stock_position(self, ticker, price, quantity):\n",
        "    if self.cash > (price * quantity):\n",
        "      if ticker not in self.positions_price:\n",
        "        self.positions_price[ticker] = price\n",
        "        self.positions_quantity[ticker] = quantity\n",
        "        self.cash = self.cash - (price * quantity)\n",
        "        print(\"Check:\")\n",
        "        print(self.positions_price)\n",
        "        print(self.positions_quantity)\n",
        "        print(self.cash)\n",
        "        return self.positions_price, self.positions_quantity\n",
        "      else:\n",
        "        total_price = (price * quantity) + (self.positions_quantity[ticker] * self.positions_price[ticker])\n",
        "        total_shares = quantity + self.positions_quantity[ticker]\n",
        "        self.positions_price[ticker] = total_price / (total_shares)\n",
        "        self.positions_quantity[ticker] = total_shares\n",
        "        self.cash = self.cash - (price * quantity)\n",
        "        return self.positions_price, self.positions_quantity, self.cash\n",
        "    else:\n",
        "      print(f\"You do not have enough cash to buy '{ticker}'\")\n",
        "\n",
        "  # Sells a stock at designated price for X shares\n",
        "  def sell_us_stock_position(self, ticker, price, quantity):\n",
        "    if ticker not in self.positions_price:\n",
        "      print(f\"The stock, '{ticker}', is not in the portfolio\")\n",
        "    else:\n",
        "      self.positions_quantity[ticker] = self.positions_quantity[ticker] - quantity\n",
        "      self.cash = self.cash + (price * quantity)\n",
        "      return self.positions_price, self.positions_quantity, self.cash\n",
        "\n",
        "  def calculate_sharpe_ratio(self, risk_free_rate): \n",
        "    # utilize total return, total volatility, and risk free rate\n",
        "    # updates sharpe ratio attribute\n",
        "    return None\n",
        "\n",
        "  def portfolio_report(self):\n",
        "    print(\"Portfolio Name: {name}\".format(name = self.name))\n",
        "    print(\"Portfolio AUM: ${aum}\".format(aum = self.AUM))\n",
        "    print(\"\\nPortfolio Statistics:\")\n",
        "    print(\"Portfolio Return: {total_return}%\".format(total_return = self.total_return))\n",
        "    print(\"Portfolio Beta: {beta}\".format(beta = self.portfolio_beta))\n",
        "    print(\"Portfolio Profit-Loss: ${profit_loss}\".format(profit_loss = self.profit_loss))\n",
        "    print(\"Portfolio Sharpe Ratio: {sharpe_ratio}\".format(sharpe_ratio = self.sharpe_ratio))\n",
        "    print(\"Portfolio Expense Ratio: {expense_ratio}\".format(expense_ratio = self.expense_ratio))\n",
        "    print(\"Portfolio Average P/E: {avg_price_to_earnings}\".format(avg_price_to_earnings= self.avg_price_to_earnings))\n",
        "    #etc.\n",
        "\n",
        "  # calculates the weight of the portfolio's securities\n",
        "  def positions_weight(self):\n",
        "    for ticker in self.positions_price:\n",
        "      ticker_weight = round((self.positions_price[ticker] * self.positions_quantity[ticker])/self.calculate_securities(),6) * 100\n",
        "      print(f\"{ticker}: {ticker_weight}%\")\n",
        "      \n",
        "\n",
        "  def graph_us_stocks_holdings(self):\n",
        "    # utilize matplotlib to graph\n",
        "    return None\n",
        "\n",
        "  def trailing_performance(self, end_date, start_date):\n",
        "    return None\n",
        "\n",
        "# Tests\n",
        "matt = Portfolio('Matts Portfolio', 100000)\n",
        "\n",
        "matt.buy_us_stock_position('APPL', 50, 50)\n",
        "matt.buy_us_stock_position('GM', 125, 50)\n",
        "matt.buy_us_stock_position('META', 50, 1500)\n",
        "matt.buy_us_stock_position('META', 50, 150000000)\n",
        "matt.positions_weight()\n"
      ],
      "metadata": {
        "id": "IqwWW7KE2ps1",
        "outputId": "03bf9d20-5fbc-4985-999e-a32bfb43ff0d",
        "colab": {
          "base_uri": "https://localhost:8080/"
        }
      },
      "execution_count": 2,
      "outputs": [
        {
          "output_type": "stream",
          "name": "stdout",
          "text": [
            "Check:\n",
            "{'APPL': 50}\n",
            "{'APPL': 50}\n",
            "97500\n",
            "Check:\n",
            "{'APPL': 50, 'GM': 125}\n",
            "{'APPL': 50, 'GM': 50}\n",
            "91250\n",
            "Check:\n",
            "{'APPL': 50, 'GM': 125, 'META': 50}\n",
            "{'APPL': 50, 'GM': 50, 'META': 1500}\n",
            "16250\n",
            "You do not have enough cash to buy 'META'\n",
            "APPL: 2.9851%\n",
            "GM: 7.4627%\n",
            "META: 89.5522%\n"
          ]
        }
      ]
    }
  ]
}