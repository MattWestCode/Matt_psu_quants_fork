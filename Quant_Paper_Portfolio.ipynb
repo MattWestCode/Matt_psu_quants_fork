{
  "nbformat": 4,
  "nbformat_minor": 0,
  "metadata": {
    "colab": {
      "provenance": [],
      "include_colab_link": true
    },
    "kernelspec": {
      "name": "python3",
      "display_name": "Python 3"
    },
    "language_info": {
      "name": "python"
    }
  },
  "cells": [
    {
      "cell_type": "markdown",
      "metadata": {
        "id": "view-in-github",
        "colab_type": "text"
      },
      "source": [
        "<a href=\"https://colab.research.google.com/github/MattWestCode/Matt_psu_quants_fork/blob/investing/Quant_Paper_Portfolio.ipynb\" target=\"_parent\"><img src=\"https://colab.research.google.com/assets/colab-badge.svg\" alt=\"Open In Colab\"/></a>"
      ]
    },
    {
      "cell_type": "code",
      "source": [
        "!pip install yfinance"
      ],
      "metadata": {
        "id": "XazDq8-bOU01"
      },
      "execution_count": null,
      "outputs": []
    },
    {
      "cell_type": "code",
      "source": [
        "from pandas_datareader import data as pdr\n",
        "import yfinance as yf\n",
        "import pandas as pd\n",
        "import numpy as np\n",
        "from datetime import datetime\n",
        "import matplotlib as plt\n",
        "yf.pdr_override()"
      ],
      "metadata": {
        "id": "xjDkhUK-xwFt"
      },
      "execution_count": 2,
      "outputs": []
    },
    {
      "cell_type": "code",
      "source": [
        "class Portfolio:\n",
        "  def __init__(self, name, cash):\n",
        "    self.name = name\n",
        "    self.cash = cash\n",
        "    self.AUM = None\n",
        "\n",
        "    self.positions_price = {}\n",
        "    self.us_stocks_portfolio_weight = {}\n",
        "    self.positions_quantity = {}\n",
        "    self.total_transactions = 0\n",
        "    self.us_stocks_trades = [] #{\"AAPL\": [[id1, price paid, qty, date], [id2, -price paid, qty, date]]}\n",
        "    \n",
        "    self.portfolio_beta = None\n",
        "    self.profit_loss = None\n",
        "    self.sharpe_ratio = None\n",
        "    self.total_return = None\n",
        "    self.expense_ratio = None\n",
        "    self.avg_price_to_earnings = None\n",
        "    \n",
        "  # Calculates the return of the portfolio from inception\n",
        "  def calculate_return(self):\n",
        "    return None\n",
        "\n",
        "\n",
        "  # Calculates the value of securities\n",
        "  def calculate_securities(self):\n",
        "    total_value = 0\n",
        "    for ticker in self.positions_price:\n",
        "      total_value += self.positions_price[ticker] * self.positions_quantity[ticker]\n",
        "    return total_value\n",
        "    \n",
        "\n",
        "  # Calculates assets under management\n",
        "  def calculate_AUM(self):\n",
        "    self.AUM = self.cash + self.calculate_securities()\n",
        "    return self.AUM\n",
        "\n",
        "\n",
        "  def performance_vs_benchmark(self, start_date, end_date, benchmark):\n",
        "    return None\n",
        "\n",
        "\n",
        "  # Finds a specific trade made\n",
        "  def find_us_stock_trade(self, ticker, id):\n",
        "    return None\n",
        "\n",
        "\n",
        "  # Buys a stock at designated price for X shares\n",
        "  def buy_us_stock_position(self, ticker, price, quantity):\n",
        "    if self.cash > (price * quantity):\n",
        "      if ticker not in self.positions_price:\n",
        "        self.positions_price[ticker] = price\n",
        "        self.positions_quantity[ticker] = quantity\n",
        "        self.cash = self.cash - (price * quantity)\n",
        "\n",
        "      else:\n",
        "        total_price = (price * quantity) + (self.positions_quantity[ticker] * self.positions_price[ticker])\n",
        "        total_shares = quantity + self.positions_quantity[ticker]\n",
        "        self.positions_price[ticker] = total_price / (total_shares)\n",
        "        self.positions_quantity[ticker] = total_shares\n",
        "        self.cash = self.cash - (price * quantity)\n",
        "      \n",
        "      id = self.total_transactions + 1\n",
        "      self.us_stocks_trades.append({\"id\": id, \"ticker\": ticker, \"price paid\": price, \"quantity\": quantity})\n",
        "      self.total_transactions += 1\n",
        "      \n",
        "      return self.positions_price, self.positions_quantity, self.cash, self.us_stocks_trades\n",
        "    \n",
        "    else:\n",
        "      print(f\"You do not have enough cash to buy '{ticker}'\")\n",
        "\n",
        "\n",
        "  # Sells a stock at designated price for X shares\n",
        "  def sell_us_stock_position(self, ticker, price, quantity):\n",
        "    if ticker not in self.positions_price:\n",
        "      print(f\"The stock, '{ticker}', is not in the portfolio\")\n",
        "    else:\n",
        "      self.positions_quantity[ticker] = self.positions_quantity[ticker] - quantity\n",
        "      self.cash = self.cash + (price * quantity)\n",
        "      \n",
        "      id = self.total_transactions + 1\n",
        "      self.us_stocks_trades.append({\"id\": id, \"ticker\": ticker, \"price sold\": price, \"quantity\": quantity})\n",
        "      self.total_transactions += 1\n",
        "      \n",
        "      return self.positions_price, self.positions_quantity, self.cash\n",
        "\n",
        "\n",
        "  def calculate_sharpe_ratio(self, risk_free_rate): \n",
        "    # utilize total return, total volatility, and risk free rate\n",
        "    # updates sharpe ratio attribute\n",
        "    return None\n",
        "\n",
        "\n",
        "  # Calculates the weight of only the portfolio's securities\n",
        "  def positions_weight(self):\n",
        "    for ticker in self.positions_price:\n",
        "      ticker_weight = round((self.positions_price[ticker] * self.positions_quantity[ticker])/self.calculate_securities(),6) * 100\n",
        "      print(f\"{ticker}: {ticker_weight}%\")\n",
        "      \n",
        "  \n",
        "  def graph_us_stocks_holdings(self):\n",
        "    # utilize matplotlib to graph\n",
        "    return None\n",
        "\n",
        "\n",
        "  def trailing_performance(self, end_date, start_date):\n",
        "    return None\n",
        "\n",
        "  \n",
        "  # Would make the display of the transactions cleaner\n",
        "  def display_transactions(self):\n",
        "    pass\n",
        "\n",
        "\n",
        "  # Needs Work!\n",
        "  def calculate_all_statistics(self):\n",
        "    return self.calculate_AUM(), self.calculate_return(), self.calculate_sharpe_ratio(.347) #etc.\n",
        "\n",
        "\n",
        "  # Calls \"calculates_all_statistics()\" so statistcis are up-to-date when pulling data\n",
        "  def portfolio_report(self):\n",
        "    self.calculate_all_statistics()\n",
        "    print(\"Portfolio Name: {name}\".format(name = self.name))\n",
        "    print(\"Portfolio AUM: ${aum}\".format(aum = self.AUM))\n",
        "    print(\"\\nPortfolio Statistics:\")\n",
        "    print(\"Portfolio Return: {total_return}%\".format(total_return = self.total_return))\n",
        "    print(\"Portfolio Beta: {beta}\".format(beta = self.portfolio_beta))\n",
        "    print(\"Portfolio Profit-Loss: ${profit_loss}\".format(profit_loss = self.profit_loss))\n",
        "    print(\"Portfolio Sharpe Ratio: {sharpe_ratio}\".format(sharpe_ratio = self.sharpe_ratio))\n",
        "    print(\"Portfolio Expense Ratio: {expense_ratio}\".format(expense_ratio = self.expense_ratio))\n",
        "    print(\"Portfolio Average P/E: {avg_price_to_earnings}\".format(avg_price_to_earnings= self.avg_price_to_earnings))\n",
        "    \n",
        "\n",
        "# # # #    TEST AREA    # # # #\n",
        "\n",
        "matt = Portfolio(\"Matt's Portfolio\", 100000)\n",
        "matt.portfolio_report()\n",
        "\n",
        "matt.buy_us_stock_position('APPL', 50, 50)\n",
        "matt.buy_us_stock_position('GM', 125, 50)\n",
        "matt.sell_us_stock_position('APPL', 75, 50)\n",
        "print(matt.us_stocks_trades)\n",
        "\n",
        "\n",
        "  \n",
        "\n"
      ],
      "metadata": {
        "id": "IqwWW7KE2ps1",
        "colab": {
          "base_uri": "https://localhost:8080/"
        },
        "outputId": "0a9d3641-df86-461f-d10d-e71c8ed4004c"
      },
      "execution_count": 13,
      "outputs": [
        {
          "output_type": "stream",
          "name": "stdout",
          "text": [
            "Portfolio Name: Matt's Portfolio\n",
            "Portfolio AUM: $100000\n",
            "\n",
            "Portfolio Statistics:\n",
            "Portfolio Return: None%\n",
            "Portfolio Beta: None\n",
            "Portfolio Profit-Loss: $None\n",
            "Portfolio Sharpe Ratio: None\n",
            "Portfolio Expense Ratio: None\n",
            "Portfolio Average P/E: None\n",
            "[{'id': 1, 'ticker': 'APPL', 'price paid': 50, 'quantity': 50}, {'id': 2, 'ticker': 'GM', 'price paid': 125, 'quantity': 50}, {'id': 3, 'ticker': 'APPL', 'price sold': 75, 'quantity': 50}]\n"
          ]
        }
      ]
    },
    {
      "cell_type": "code",
      "source": [],
      "metadata": {
        "id": "cW8NRDloF7nS"
      },
      "execution_count": null,
      "outputs": []
    }
  ]
}