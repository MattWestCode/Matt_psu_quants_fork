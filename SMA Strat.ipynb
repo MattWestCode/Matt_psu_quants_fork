{
  "nbformat": 4,
  "nbformat_minor": 0,
  "metadata": {
    "colab": {
      "provenance": [],
      "authorship_tag": "ABX9TyPTMfy5DK23wSWFJR5a777R",
      "include_colab_link": true
    },
    "kernelspec": {
      "name": "python3",
      "display_name": "Python 3"
    },
    "language_info": {
      "name": "python"
    }
  },
  "cells": [
    {
      "cell_type": "markdown",
      "metadata": {
        "id": "view-in-github",
        "colab_type": "text"
      },
      "source": [
        "<a href=\"https://colab.research.google.com/github/MattWestCode/Matt_psu_quants_fork/blob/investing/SMA%20Strat.ipynb\" target=\"_parent\"><img src=\"https://colab.research.google.com/assets/colab-badge.svg\" alt=\"Open In Colab\"/></a>"
      ]
    },
    {
      "cell_type": "code",
      "source": [
        "import random\n",
        "import yfinance as yf\n",
        "import pandas as pd\n",
        "import numpy as np\n",
        "import matplotlib.pyplot as plt\n"
      ],
      "metadata": {
        "id": "9qjjdXX_koF-"
      },
      "execution_count": 33,
      "outputs": []
    },
    {
      "cell_type": "code",
      "execution_count": null,
      "metadata": {
        "id": "Ynmxm1Bwkbyf"
      },
      "outputs": [],
      "source": [
        "\n",
        "cash = 1000\n",
        "\n",
        "\n",
        "\n",
        "# Data Variables\n",
        "start_date = \"2020-09-03\"\n",
        "end_date = \"2023-09-03\"\n",
        "interval_time = \"1d\"\n",
        "ticker = \"META\"\n",
        "is_holding = False\n",
        "current_holding_price = 0\n",
        "consolidation_indicator = 0\n",
        "consolidation_times = 3\n",
        "sma_short_index = []\n",
        "sma_long_index = []\n",
        "\n",
        "# Strategy Variables\n",
        "sma_short_length = 30\n",
        "sma_long_length = 60\n",
        "\n",
        "\n",
        "# Downloading backtest data\n",
        "stock_data = yf.download(ticker,start=start_date, end=end_date, interval=interval_time)\n",
        "stock_data = [float(i) for i in stock_data['Close']]\n",
        "print(stock_data)\n",
        "'''\n",
        "# Generates Random Stock Movements\n",
        "start_num = 250\n",
        "range_num = 5\n",
        "for i in range(0, 200):\n",
        "  n = random.randint(start_num - range_num, start_num + range_num)\n",
        "  data.append(n)\n",
        "  start_num = n\n",
        "print(data)\n",
        "'''\n",
        "\n",
        "\n",
        "#Main\n",
        "for i in range(0, len(stock_data)-sma_long_length):\n",
        "  sma_short = sum(stock_data[sma_long_length-sma_short_length+i:i+sma_long_length])/sma_short_length\n",
        "  sma_long = sum(stock_data[i:i+sma_long_length])/sma_long_length\n",
        "\n",
        "  sma_short_index.append(sma_short)\n",
        "  sma_long_index.append(sma_long)\n",
        "\n",
        "\n",
        "\n",
        "  #print (stock_data[i+sma_long_length], sma_short, sma_long, i, consolidation_indicator)\n",
        "\n",
        " # Consolidation Signals\n",
        "\n",
        "\n",
        "\n",
        "\n",
        " # Buy / Sell Signals\n",
        "  if (sma_short > sma_long) and is_holding == False:\n",
        "    is_holding = True\n",
        "    current_holding_price = stock_data[i+sma_long_length]\n",
        "    cash = cash - current_holding_price\n",
        "    print(\"BUY, CURRENT PRICE:\" + str(current_holding_price), cash, \"---------------\")\n",
        "\n",
        "  if (sma_short < sma_long) and is_holding == True:\n",
        "    is_holding = False\n",
        "    current_holding_price = stock_data[i+sma_long_length]\n",
        "    cash = cash + current_holding_price\n",
        "    print(\"SELL, CURRENT PRICE:\" + str(current_holding_price), cash, \"---------------\")\n",
        "\n",
        "  pass\n",
        "\n",
        "if is_holding == True:\n",
        "  cash = cash + stock_data[-1]\n",
        "port_return = str(((cash-1000)/1000)*100)+\"%\"\n",
        "print(cash, port_return)\n",
        "print(str(((stock_data[-1]-stock_data[sma_long_length])/stock_data[sma_long_length])*100)+\"%\")\n",
        "\n",
        "plt.plot(stock_data[sma_long_length:-1], label = ticker)\n",
        "plt.plot(sma_short_index, label = str(sma_short_length) + 'MA')\n",
        "plt.plot(sma_long_index, label = str(sma_long_length) + 'MA')\n",
        "plt.title(ticker + \" from \" + start_date + \" to \" + end_date)\n",
        "plt.show()"
      ]
    }
  ]
}